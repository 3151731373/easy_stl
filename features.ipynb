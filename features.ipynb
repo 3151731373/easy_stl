{
 "cells": [
  {
   "cell_type": "markdown",
   "metadata": {
    "tags": [
     "pdf-title"
    ]
   },
   "source": [
    "# Image features exercise\n",
    "*Complete and hand in this completed worksheet (including its outputs and any supporting code outside of the worksheet) with your assignment submission. For more details see the [assignments page](http://vision.stanford.edu/teaching/cs231n/assignments.html) on the course website.*\n",
    "\n",
    "We have seen that we can achieve reasonable performance on an image classification task by training a linear classifier on the pixels of the input image. In this exercise we will show that we can improve our classification performance by training linear classifiers not on raw pixels but on features that are computed from the raw pixels.\n",
    "\n",
    "All of your work for this exercise will be done in this notebook."
   ]
  },
  {
   "cell_type": "code",
   "execution_count": 1,
   "metadata": {},
   "outputs": [
    {
     "name": "stdout",
     "output_type": "stream",
     "text": [
      "36\n"
     ]
    }
   ],
   "source": [
    "import numpy as np\n",
    "aa = [4,9,5]\n",
    "print(np.product(aa[0:2]))"
   ]
  },
  {
   "cell_type": "code",
   "execution_count": 2,
   "metadata": {},
   "outputs": [
    {
     "name": "stdout",
     "output_type": "stream",
     "text": [
      "['', '', '', '', '', 'a.', '', '', '', '', '', 'a.', '', '', '', '', '', '']\n"
     ]
    }
   ],
   "source": [
    "a = \"     a.      a.      \"\n",
    "b = list(a.split(\" \"))\n",
    "print(b)"
   ]
  },
  {
   "cell_type": "code",
   "execution_count": null,
   "metadata": {},
   "outputs": [],
   "source": []
  },
  {
   "cell_type": "code",
   "execution_count": null,
   "metadata": {},
   "outputs": [],
   "source": []
  },
  {
   "cell_type": "code",
   "execution_count": 18,
   "metadata": {},
   "outputs": [
    {
     "name": "stdout",
     "output_type": "stream",
     "text": [
      "a\n",
      "b\n",
      "c\n"
     ]
    }
   ],
   "source": [
    "u = {'a':'1','b':'2','c':'3'}\n",
    "for x in u:\n",
    "    print(x)"
   ]
  },
  {
   "cell_type": "code",
   "execution_count": 15,
   "metadata": {},
   "outputs": [
    {
     "name": "stdout",
     "output_type": "stream",
     "text": [
      "a%%\n",
      "b%%\n",
      "c%%\n",
      "d%%\n",
      "e%%\n",
      "f%%\n",
      "g%%\n",
      "h%%\n",
      "i%%\n",
      "j%%\n",
      "k%%\n",
      "l%%\n",
      "m%%\n",
      "n%%\n",
      "o%%\n",
      "p%%\n",
      "q%%\n",
      "r%%\n",
      "s%%\n",
      "t%%\n",
      "u%%\n",
      "v%%\n",
      "w%%\n",
      "x%%\n",
      "y%%\n",
      "z%%\n",
      "za%\n",
      "zb%\n",
      "zc%\n",
      "zd%\n",
      "ze%\n",
      "zf%\n",
      "zg%\n",
      "zh%\n",
      "zi%\n",
      "zj%\n",
      "zk%\n",
      "zl%\n",
      "zm%\n",
      "zn%\n",
      "zo%\n",
      "zp%\n",
      "zq%\n",
      "zr%\n",
      "zs%\n",
      "zt%\n",
      "zu%\n",
      "zv%\n",
      "zw%\n",
      "zx%\n",
      "zy%\n",
      "zz%\n",
      "zza\n",
      "zzb\n",
      "zzc\n",
      "zzd\n",
      "zze\n",
      "zzf\n",
      "zzg\n",
      "zzh\n",
      "zzi\n",
      "zzj\n",
      "zzk\n",
      "zzl\n",
      "zzm\n",
      "zzn\n",
      "zzo\n",
      "zzp\n",
      "zzq\n",
      "zzr\n",
      "zzs\n",
      "zzt\n",
      "zzu\n",
      "zzv\n",
      "zzw\n",
      "zzx\n",
      "zzy\n",
      "zzz\n"
     ]
    }
   ],
   "source": [
    "u = '%%%'\n",
    "for i in range(len(u)):\n",
    "    for j in range(97, 123):\n",
    "        u = u[0:i] + chr(j) + u[i+1:]\n",
    "        print(u)"
   ]
  },
  {
   "cell_type": "code",
   "execution_count": 12,
   "metadata": {},
   "outputs": [],
   "source": [
    "matrix =[[\"1\",\"0\",\"1\",\"0\",\"0\"],[\"1\",\"0\",\"1\",\"1\",\"1\"],[\"1\",\"1\",\"1\",\"1\",\"1\"],[\"1\",\"0\",\"0\",\"1\",\"0\"]]"
   ]
  },
  {
   "cell_type": "code",
   "execution_count": 10,
   "metadata": {},
   "outputs": [
    {
     "name": "stdout",
     "output_type": "stream",
     "text": [
      "[[0. 0. 1. 2.]]\n"
     ]
    }
   ],
   "source": [
    "import numpy as np\n",
    "a = np.concatenate((np.zeros((1, 2)),np.array([[1,2]])),1)\n",
    "print(a)"
   ]
  },
  {
   "cell_type": "code",
   "execution_count": 4,
   "metadata": {
    "scrolled": true
   },
   "outputs": [
    {
     "data": {
      "text/plain": [
       "array([[0., 0.]])"
      ]
     },
     "execution_count": 4,
     "metadata": {},
     "output_type": "execute_result"
    }
   ],
   "source": [
    "np.zeros((1, 2))"
   ]
  },
  {
   "cell_type": "code",
   "execution_count": 6,
   "metadata": {},
   "outputs": [
    {
     "data": {
      "text/plain": [
       "array([[0., 0.]])"
      ]
     },
     "execution_count": 6,
     "metadata": {},
     "output_type": "execute_result"
    }
   ],
   "source": [
    "np.zeros((1,2))"
   ]
  },
  {
   "cell_type": "code",
   "execution_count": 21,
   "metadata": {},
   "outputs": [
    {
     "name": "stdout",
     "output_type": "stream",
     "text": [
      "0 1 1 1 0\n",
      "0 3 1 1 2\n",
      "1 1 2 2 0\n",
      "1 3 2 2 2\n",
      "1 5 1 1 4\n",
      "1 5 4 1 1\n",
      "2 1 3 3 0\n",
      "2 3 3 3 2\n",
      "2 5 2 2 4\n",
      "2 5 8 2 1\n",
      "2 5 5 1 0\n",
      "3 1 4 4 0\n",
      "3 4 3 3 3\n"
     ]
    }
   ],
   "source": [
    "        dp = []\n",
    "        lm = len(matrix[0])\n",
    "        for i in range(lm):\n",
    "            dp.append([])\n",
    "            if matrix[0][i] == \"1\":\n",
    "                dp[0].append(1)\n",
    "            else:\n",
    "                dp[0].append(0)\n",
    "        dp[0].append(0)\n",
    "        for i in range(1,len(matrix)):\n",
    "            dp.append([])\n",
    "            for j in range(0,lm):\n",
    "                if matrix[i][j] == \"0\":\n",
    "                    dp[i].append(0)\n",
    "                else:\n",
    "                    dp[i].append(dp[i-1][j] + 1)\n",
    "                #print(i,j,dp[i][j])\n",
    "            dp[i].append(0)\n",
    "        ans = 0\n",
    "        for i in range(0,len(matrix)):\n",
    "            tmp_m = []\n",
    "            tmp_m.append({'id':0,'v':dp[i][0]})\n",
    "            r = 0\n",
    "            for j in range(1,lm+1):\n",
    "                if(dp[i][j]>=tmp_m[r]['v']):\n",
    "                    tmp_m.append({'id':j,'v':dp[i][j]})\n",
    "                    r += 1\n",
    "                else:\n",
    "                    tmp_id = j\n",
    "                    while(r>=0 and dp[i][j]<tmp_m[r]['v']):\n",
    "                        ans = max(ans,(j-tmp_m[r]['id'])*tmp_m[r]['v'])\n",
    "                        print(i,j,(j-tmp_m[r]['id'])*tmp_m[r]['v'],tmp_m[r]['v'],tmp_m[r]['id'])\n",
    "                        tmp_id = r\n",
    "                        r -= 1\n",
    "                        tmp_m.pop()\n",
    "                    tmp_m.append({'id':tmp_id,'v':dp[i][j]})\n",
    "                    r += 1"
   ]
  },
  {
   "cell_type": "code",
   "execution_count": 11,
   "metadata": {},
   "outputs": [
    {
     "name": "stdout",
     "output_type": "stream",
     "text": [
      "15\n"
     ]
    }
   ],
   "source": [
    "print(ans)"
   ]
  },
  {
   "cell_type": "code",
   "execution_count": 2,
   "metadata": {
    "tags": [
     "pdf-ignore"
    ]
   },
   "outputs": [
    {
     "name": "stdout",
     "output_type": "stream",
     "text": [
      "The autoreload extension is already loaded. To reload it, use:\n",
      "  %reload_ext autoreload\n"
     ]
    }
   ],
   "source": [
    "import random\n",
    "import numpy as np\n",
    "from cs231n.data_utils import load_CIFAR10\n",
    "import matplotlib.pyplot as plt\n",
    "\n",
    "\n",
    "%matplotlib inline\n",
    "plt.rcParams['figure.figsize'] = (10.0, 8.0) # set default size of plots\n",
    "plt.rcParams['image.interpolation'] = 'nearest'\n",
    "plt.rcParams['image.cmap'] = 'gray'\n",
    "\n",
    "# for auto-reloading extenrnal modules\n",
    "# see http://stackoverflow.com/questions/1907993/autoreload-of-modules-in-ipython\n",
    "%load_ext autoreload\n",
    "%autoreload 2"
   ]
  },
  {
   "cell_type": "markdown",
   "metadata": {
    "tags": [
     "pdf-ignore"
    ]
   },
   "source": [
    "## Load data\n",
    "Similar to previous exercises, we will load CIFAR-10 data from disk."
   ]
  },
  {
   "cell_type": "code",
   "execution_count": 3,
   "metadata": {
    "tags": [
     "pdf-ignore"
    ]
   },
   "outputs": [],
   "source": [
    "from cs231n.features import color_histogram_hsv, hog_feature\n",
    "\n",
    "def get_CIFAR10_data(num_training=49000, num_validation=1000, num_test=1000):\n",
    "    # Load the raw CIFAR-10 data\n",
    "    cifar10_dir = 'cs231n/datasets/cifar-10-batches-py'\n",
    "\n",
    "    # Cleaning up variables to prevent loading data multiple times (which may cause memory issue)\n",
    "    try:\n",
    "       del X_train, y_train\n",
    "       del X_test, y_test\n",
    "       print('Clear previously loaded data.')\n",
    "    except:\n",
    "       pass\n",
    "\n",
    "    X_train, y_train, X_test, y_test = load_CIFAR10(cifar10_dir)\n",
    "    \n",
    "    # Subsample the data\n",
    "    mask = list(range(num_training, num_training + num_validation))\n",
    "    X_val = X_train[mask]\n",
    "    y_val = y_train[mask]\n",
    "    mask = list(range(num_training))\n",
    "    X_train = X_train[mask]\n",
    "    y_train = y_train[mask]\n",
    "    mask = list(range(num_test))\n",
    "    X_test = X_test[mask]\n",
    "    y_test = y_test[mask]\n",
    "    \n",
    "    return X_train, y_train, X_val, y_val, X_test, y_test\n",
    "\n",
    "X_train, y_train, X_val, y_val, X_test, y_test = get_CIFAR10_data()"
   ]
  },
  {
   "cell_type": "code",
   "execution_count": null,
   "metadata": {
    "scrolled": true
   },
   "outputs": [],
   "source": [
    "print(X_train.shape)\n",
    "a = X_train[0].copy()\n",
    "print(a.shape)\n",
    "a = a.squeeze()\n",
    "print(len(a.shape))"
   ]
  },
  {
   "cell_type": "code",
   "execution_count": null,
   "metadata": {},
   "outputs": [],
   "source": [
    "y= [ [1,2,3],[4,5,6,7]]\n",
    "x = np.hstack(y)\n",
    "print(x.shape)\n",
    "x = x.T\n",
    "print(x.shape)"
   ]
  },
  {
   "cell_type": "code",
   "execution_count": null,
   "metadata": {},
   "outputs": [],
   "source": [
    "for i in np.arange(0.5,0.95,0.05):\n",
    "    print(i)"
   ]
  },
  {
   "cell_type": "code",
   "execution_count": null,
   "metadata": {},
   "outputs": [],
   "source": [
    "np.arange(0,1,0.1)"
   ]
  },
  {
   "cell_type": "markdown",
   "metadata": {
    "tags": [
     "pdf-ignore"
    ]
   },
   "source": [
    "## Extract Features\n",
    "For each image we will compute a Histogram of Oriented\n",
    "Gradients (HOG) as well as a color histogram using the hue channel in HSV\n",
    "color space. We form our final feature vector for each image by concatenating\n",
    "the HOG and color histogram feature vectors.\n",
    "\n",
    "Roughly speaking, HOG should capture the texture of the image while ignoring\n",
    "color information, and the color histogram represents the color of the input\n",
    "image while ignoring texture. As a result, we expect that using both together\n",
    "ought to work better than using either alone. Verifying this assumption would\n",
    "be a good thing to try for your own interest.\n",
    "\n",
    "The `hog_feature` and `color_histogram_hsv` functions both operate on a single\n",
    "image and return a feature vector for that image. The extract_features\n",
    "function takes a set of images and a list of feature functions and evaluates\n",
    "each feature function on each image, storing the results in a matrix where\n",
    "each column is the concatenation of all feature vectors for a single image."
   ]
  },
  {
   "cell_type": "code",
   "execution_count": 4,
   "metadata": {
    "scrolled": true,
    "tags": [
     "pdf-ignore"
    ]
   },
   "outputs": [
    {
     "name": "stdout",
     "output_type": "stream",
     "text": [
      "(144,) 144\n",
      "(100,) 100\n",
      "Done extracting features for 1000 / 49000 images\n",
      "Done extracting features for 2000 / 49000 images\n",
      "Done extracting features for 3000 / 49000 images\n",
      "Done extracting features for 4000 / 49000 images\n",
      "Done extracting features for 5000 / 49000 images\n",
      "Done extracting features for 6000 / 49000 images\n",
      "Done extracting features for 7000 / 49000 images\n",
      "Done extracting features for 8000 / 49000 images\n",
      "Done extracting features for 9000 / 49000 images\n",
      "Done extracting features for 10000 / 49000 images\n",
      "Done extracting features for 11000 / 49000 images\n",
      "Done extracting features for 12000 / 49000 images\n",
      "Done extracting features for 13000 / 49000 images\n",
      "Done extracting features for 14000 / 49000 images\n",
      "Done extracting features for 15000 / 49000 images\n",
      "Done extracting features for 16000 / 49000 images\n",
      "Done extracting features for 17000 / 49000 images\n",
      "Done extracting features for 18000 / 49000 images\n",
      "Done extracting features for 19000 / 49000 images\n",
      "Done extracting features for 20000 / 49000 images\n",
      "Done extracting features for 21000 / 49000 images\n",
      "Done extracting features for 22000 / 49000 images\n",
      "Done extracting features for 23000 / 49000 images\n",
      "Done extracting features for 24000 / 49000 images\n",
      "Done extracting features for 25000 / 49000 images\n",
      "Done extracting features for 26000 / 49000 images\n",
      "Done extracting features for 27000 / 49000 images\n",
      "Done extracting features for 28000 / 49000 images\n",
      "Done extracting features for 29000 / 49000 images\n",
      "Done extracting features for 30000 / 49000 images\n",
      "Done extracting features for 31000 / 49000 images\n",
      "Done extracting features for 32000 / 49000 images\n",
      "Done extracting features for 33000 / 49000 images\n",
      "Done extracting features for 34000 / 49000 images\n",
      "Done extracting features for 35000 / 49000 images\n",
      "Done extracting features for 36000 / 49000 images\n",
      "Done extracting features for 37000 / 49000 images\n",
      "Done extracting features for 38000 / 49000 images\n",
      "Done extracting features for 39000 / 49000 images\n",
      "Done extracting features for 40000 / 49000 images\n",
      "Done extracting features for 41000 / 49000 images\n",
      "Done extracting features for 42000 / 49000 images\n",
      "Done extracting features for 43000 / 49000 images\n",
      "Done extracting features for 44000 / 49000 images\n",
      "Done extracting features for 45000 / 49000 images\n",
      "Done extracting features for 46000 / 49000 images\n",
      "Done extracting features for 47000 / 49000 images\n",
      "Done extracting features for 48000 / 49000 images\n",
      "Done extracting features for 49000 / 49000 images\n",
      "(144,) 144\n",
      "(100,) 100\n",
      "(144,) 144\n",
      "(100,) 100\n"
     ]
    }
   ],
   "source": [
    "from cs231n.features import *\n",
    "\n",
    "num_color_bins = 100 # Number of bins in the color histogram\n",
    "feature_fns = [hog_feature, lambda img: color_histogram_hsv(img, nbin=num_color_bins)]#lambda为匿名函数，img为入口参数\n",
    "X_train_feats = extract_features(X_train, feature_fns, verbose=True)\n",
    "X_val_feats = extract_features(X_val, feature_fns)\n",
    "X_test_feats = extract_features(X_test, feature_fns)\n",
    "\n",
    "#归一化\n",
    "# Preprocessing: Subtract the mean feature\n",
    "mean_feat = np.mean(X_train_feats, axis=0, keepdims=True)\n",
    "X_train_feats -= mean_feat\n",
    "X_val_feats -= mean_feat\n",
    "X_test_feats -= mean_feat\n",
    "\n",
    "# Preprocessing: Divide by standard deviation. This ensures that each feature\n",
    "# has roughly the same scale.\n",
    "std_feat = np.std(X_train_feats, axis=0, keepdims=True)\n",
    "X_train_feats /= std_feat\n",
    "X_val_feats /= std_feat\n",
    "X_test_feats /= std_feat\n",
    "\n",
    "# Preprocessing: Add a bias dimension\n",
    "X_train_feats = np.hstack([X_train_feats, np.ones((X_train_feats.shape[0], 1))])\n",
    "X_val_feats = np.hstack([X_val_feats, np.ones((X_val_feats.shape[0], 1))])\n",
    "X_test_feats = np.hstack([X_test_feats, np.ones((X_test_feats.shape[0], 1))])"
   ]
  },
  {
   "cell_type": "code",
   "execution_count": null,
   "metadata": {},
   "outputs": [],
   "source": [
    "print(X_train_feats.shape)"
   ]
  },
  {
   "cell_type": "markdown",
   "metadata": {},
   "source": [
    "## Train SVM on features\n",
    "Using the multiclass SVM code developed earlier in the assignment, train SVMs on top of the features extracted above; this should achieve better results than training SVMs directly on top of raw pixels."
   ]
  },
  {
   "cell_type": "code",
   "execution_count": 4,
   "metadata": {
    "tags": [
     "code"
    ]
   },
   "outputs": [
    {
     "name": "stdout",
     "output_type": "stream",
     "text": [
      "lr 1.000000e-09 reg 5.000000e+04 train accuracy: 0.075592 val accuracy: 0.077000\n",
      "lr 1.000000e-09 reg 4.000000e+05 train accuracy: 0.096245 val accuracy: 0.108000\n",
      "lr 1.000000e-09 reg 5.000000e+05 train accuracy: 0.109041 val accuracy: 0.099000\n",
      "lr 1.000000e-09 reg 6.000000e+05 train accuracy: 0.110265 val accuracy: 0.112000\n",
      "lr 1.000000e-09 reg 5.000000e+06 train accuracy: 0.415592 val accuracy: 0.433000\n",
      "lr 1.000000e-08 reg 5.000000e+04 train accuracy: 0.113000 val accuracy: 0.114000\n",
      "lr 1.000000e-08 reg 4.000000e+05 train accuracy: 0.415612 val accuracy: 0.433000\n",
      "lr 1.000000e-08 reg 5.000000e+05 train accuracy: 0.415469 val accuracy: 0.431000\n",
      "lr 1.000000e-08 reg 6.000000e+05 train accuracy: 0.415245 val accuracy: 0.431000\n",
      "lr 1.000000e-08 reg 5.000000e+06 train accuracy: 0.412102 val accuracy: 0.429000\n",
      "lr 1.000000e-07 reg 5.000000e+04 train accuracy: 0.415592 val accuracy: 0.434000\n",
      "lr 1.000000e-07 reg 4.000000e+05 train accuracy: 0.415020 val accuracy: 0.431000\n",
      "lr 1.000000e-07 reg 5.000000e+05 train accuracy: 0.411837 val accuracy: 0.429000\n",
      "lr 1.000000e-07 reg 6.000000e+05 train accuracy: 0.414959 val accuracy: 0.428000\n",
      "lr 1.000000e-07 reg 5.000000e+06 train accuracy: 0.401000 val accuracy: 0.439000\n",
      "best validation accuracy achieved during cross-validation: 0.439000\n"
     ]
    }
   ],
   "source": [
    "# Use the validation set to tune the learning rate and regularization strength\n",
    "\n",
    "from cs231n.classifiers.linear_classifier import LinearSVM\n",
    "\n",
    "learning_rates = [1e-9, 1e-8, 1e-7]\n",
    "regularization_strengths = [5e4, 4e5,5e5,6e5, 5e6]\n",
    "\n",
    "results = {}\n",
    "best_val = -1\n",
    "best_svm = None\n",
    "\n",
    "################################################################################\n",
    "# TODO:                                                                        #\n",
    "# Use the validation set to set the learning rate and regularization strength. #\n",
    "# This should be identical to the validation that you did for the SVM; save    #\n",
    "# the best trained classifer in best_svm. You might also want to play          #\n",
    "# with different numbers of bins in the color histogram. If you are careful    #\n",
    "# you should be able to get accuracy of near 0.44 on the validation set.       #\n",
    "################################################################################\n",
    "# *****START OF YOUR CODE (DO NOT DELETE/MODIFY THIS LINE)*****\n",
    "\n",
    "pass\n",
    "\n",
    "for lr in learning_rates:\n",
    "    for reg in regularization_strengths:\n",
    "        svm = LinearSVM()\n",
    "        loss_hist = svm.train(X_train_feats,y_train,learning_rate=lr,reg=reg,num_iters=2500,batch_size=2000,verbose=True)\n",
    "        y_train_pred = svm.predict(X_train_feats)\n",
    "        y_val_pred = svm.predict(X_val_feats)\n",
    "        \n",
    "        rate1 = np.mean(y_train == y_train_pred)\n",
    "        rate2 = np.mean(y_val == y_val_pred)\n",
    "        \n",
    "        results[(lr,reg)] = (rate1, rate2)\n",
    "        \n",
    "        if rate2 > best_val:\n",
    "            best_val = rate2\n",
    "            best_svm = svm\n",
    "\n",
    "# *****END OF YOUR CODE (DO NOT DELETE/MODIFY THIS LINE)*****\n",
    "\n",
    "# Print out results.\n",
    "for lr, reg in sorted(results):\n",
    "    train_accuracy, val_accuracy = results[(lr, reg)]\n",
    "    print('lr %e reg %e train accuracy: %f val accuracy: %f' % (\n",
    "                lr, reg, train_accuracy, val_accuracy))\n",
    "    \n",
    "print('best validation accuracy achieved during cross-validation: %f' % best_val)"
   ]
  },
  {
   "cell_type": "code",
   "execution_count": 6,
   "metadata": {},
   "outputs": [
    {
     "name": "stdout",
     "output_type": "stream",
     "text": [
      "0.404\n"
     ]
    }
   ],
   "source": [
    "# Evaluate your trained SVM on the test set\n",
    "y_test_pred = best_svm.predict(X_test_feats)\n",
    "test_accuracy = np.mean(y_test == y_test_pred)\n",
    "print(test_accuracy)"
   ]
  },
  {
   "cell_type": "code",
   "execution_count": 7,
   "metadata": {},
   "outputs": [
    {
     "data": {
      "image/png": "[encoded data removed]",
      "text/plain": [
       "<Figure size 432x288 with 80 Axes>"
      ]
     },
     "metadata": {
      "needs_background": "light"
     },
     "output_type": "display_data"
    }
   ],
   "source": [
    "# An important way to gain intuition about how an algorithm works is to\n",
    "# visualize the mistakes that it makes. In this visualization, we show examples\n",
    "# of images that are misclassified by our current system. The first column\n",
    "# shows images that our system labeled as \"plane\" but whose true label is\n",
    "# something other than \"plane\".\n",
    "\n",
    "examples_per_class = 8\n",
    "classes = ['plane', 'car', 'bird', 'cat', 'deer', 'dog', 'frog', 'horse', 'ship', 'truck']\n",
    "for cls, cls_name in enumerate(classes):\n",
    "    idxs = np.where((y_test != cls) & (y_test_pred == cls))[0]\n",
    "    idxs = np.random.choice(idxs, examples_per_class, replace=False)\n",
    "    for i, idx in enumerate(idxs):\n",
    "        plt.subplot(examples_per_class, len(classes), i * len(classes) + cls + 1)\n",
    "        plt.imshow(X_test[idx].astype('uint8'))\n",
    "        plt.axis('off')\n",
    "        if i == 0:\n",
    "            plt.title(cls_name)\n",
    "plt.show()"
   ]
  },
  {
   "cell_type": "markdown",
   "metadata": {
    "tags": [
     "pdf-inline"
    ]
   },
   "source": [
    "### Inline question 1:\n",
    "Describe the misclassification results that you see. Do they make sense?\n",
    "\n",
    "\n",
    "$\\color{blue}{\\textit Your Answer:}$\n",
    "\n",
    "\n"
   ]
  },
  {
   "cell_type": "code",
   "execution_count": null,
   "metadata": {},
   "outputs": [],
   "source": [
    "#说明训练的效果有一定的误差"
   ]
  },
  {
   "cell_type": "markdown",
   "metadata": {},
   "source": [
    "## Neural Network on image features\n",
    "Earlier in this assigment we saw that training a two-layer neural network on raw pixels achieved better classification performance than linear classifiers on raw pixels. In this notebook we have seen that linear classifiers on image features outperform linear classifiers on raw pixels. \n",
    "\n",
    "For completeness, we should also try training a neural network on image features. This approach should outperform all previous approaches: you should easily be able to achieve over 55% classification accuracy on the test set; our best model achieves about 60% classification accuracy."
   ]
  },
  {
   "cell_type": "code",
   "execution_count": 5,
   "metadata": {
    "tags": [
     "pdf-ignore"
    ]
   },
   "outputs": [
    {
     "name": "stdout",
     "output_type": "stream",
     "text": [
      "(49000, 245)\n",
      "(49000, 244)\n"
     ]
    }
   ],
   "source": [
    "# Preprocessing: Remove the bias dimension\n",
    "# Make sure to run this cell only ONCE\n",
    "print(X_train_feats.shape)\n",
    "X_train_feats = X_train_feats[:, :-1]\n",
    "X_val_feats = X_val_feats[:, :-1]\n",
    "X_test_feats = X_test_feats[:, :-1]\n",
    "\n",
    "print(X_train_feats.shape)"
   ]
  },
  {
   "cell_type": "code",
   "execution_count": 6,
   "metadata": {},
   "outputs": [],
   "source": [
    "learning_rates = [1e-2 ,1e-1, 5e-1, 1, 5]\n",
    "regularization_strengths = [1e-3, 5e-3, 1e-2, 1e-1, 0.5, 1]"
   ]
  },
  {
   "cell_type": "code",
   "execution_count": 7,
   "metadata": {
    "tags": [
     "code"
    ]
   },
   "outputs": [
    {
     "name": "stdout",
     "output_type": "stream",
     "text": [
      "iteration 0 / 1500: loss 2.302587\n",
      "iteration 100 / 1500: loss 2.302413\n",
      "iteration 200 / 1500: loss 2.302412\n",
      "iteration 300 / 1500: loss 2.302475\n",
      "iteration 400 / 1500: loss 2.302235\n",
      "iteration 500 / 1500: loss 2.303016\n",
      "iteration 600 / 1500: loss 2.302269\n",
      "iteration 700 / 1500: loss 2.302178\n",
      "iteration 800 / 1500: loss 2.302766\n",
      "iteration 900 / 1500: loss 2.301885\n",
      "iteration 1000 / 1500: loss 2.300710\n",
      "iteration 1100 / 1500: loss 2.299369\n",
      "iteration 1200 / 1500: loss 2.296604\n",
      "iteration 1300 / 1500: loss 2.293101\n",
      "iteration 1400 / 1500: loss 2.280957\n",
      "0.21724489795918367 0.23\n",
      "iteration 0 / 1500: loss 2.302592\n",
      "iteration 100 / 1500: loss 2.302679\n",
      "iteration 200 / 1500: loss 2.302541\n",
      "iteration 300 / 1500: loss 2.302605\n",
      "iteration 400 / 1500: loss 2.302554\n",
      "iteration 500 / 1500: loss 2.302888\n",
      "iteration 600 / 1500: loss 2.302299\n",
      "iteration 700 / 1500: loss 2.302478\n",
      "iteration 800 / 1500: loss 2.302687\n",
      "iteration 900 / 1500: loss 2.301826\n",
      "iteration 1000 / 1500: loss 2.301538\n",
      "iteration 1100 / 1500: loss 2.300260\n",
      "iteration 1200 / 1500: loss 2.298344\n",
      "iteration 1300 / 1500: loss 2.294743\n",
      "iteration 1400 / 1500: loss 2.286631\n",
      "0.19618367346938775 0.194\n",
      "iteration 0 / 1500: loss 2.302598\n",
      "iteration 100 / 1500: loss 2.302759\n",
      "iteration 200 / 1500: loss 2.302575\n",
      "iteration 300 / 1500: loss 2.302805\n",
      "iteration 400 / 1500: loss 2.302329\n",
      "iteration 500 / 1500: loss 2.302463\n",
      "iteration 600 / 1500: loss 2.302549\n",
      "iteration 700 / 1500: loss 2.302338\n",
      "iteration 800 / 1500: loss 2.302720\n",
      "iteration 900 / 1500: loss 2.301867\n",
      "iteration 1000 / 1500: loss 2.300872\n",
      "iteration 1100 / 1500: loss 2.299935\n",
      "iteration 1200 / 1500: loss 2.299940\n",
      "iteration 1300 / 1500: loss 2.299150\n",
      "iteration 1400 / 1500: loss 2.289665\n",
      "0.17557142857142857 0.17\n",
      "iteration 0 / 1500: loss 2.302713\n",
      "iteration 100 / 1500: loss 2.302665\n",
      "iteration 200 / 1500: loss 2.302715\n",
      "iteration 300 / 1500: loss 2.302557\n",
      "iteration 400 / 1500: loss 2.302783\n",
      "iteration 500 / 1500: loss 2.302489\n",
      "iteration 600 / 1500: loss 2.302786\n",
      "iteration 700 / 1500: loss 2.302797\n",
      "iteration 800 / 1500: loss 2.302621\n",
      "iteration 900 / 1500: loss 2.302927\n",
      "iteration 1000 / 1500: loss 2.302352\n",
      "iteration 1100 / 1500: loss 2.302708\n",
      "iteration 1200 / 1500: loss 2.302384\n",
      "iteration 1300 / 1500: loss 2.302755\n",
      "iteration 1400 / 1500: loss 2.302567\n",
      "0.09989795918367347 0.105\n",
      "iteration 0 / 1500: loss 2.303222\n",
      "iteration 100 / 1500: loss 2.302455\n",
      "iteration 200 / 1500: loss 2.302264\n",
      "iteration 300 / 1500: loss 2.302253\n",
      "iteration 400 / 1500: loss 2.301932\n",
      "iteration 500 / 1500: loss 2.302433\n",
      "iteration 600 / 1500: loss 2.302454\n",
      "iteration 700 / 1500: loss 2.303248\n",
      "iteration 800 / 1500: loss 2.302693\n",
      "iteration 900 / 1500: loss 2.302611\n",
      "iteration 1000 / 1500: loss 2.302392\n",
      "iteration 1100 / 1500: loss 2.302946\n",
      "iteration 1200 / 1500: loss 2.302340\n",
      "iteration 1300 / 1500: loss 2.302215\n",
      "iteration 1400 / 1500: loss 2.302605\n",
      "0.10044897959183674 0.078\n",
      "iteration 0 / 1500: loss 2.303857\n",
      "iteration 100 / 1500: loss 2.302514\n",
      "iteration 200 / 1500: loss 2.302590\n",
      "iteration 300 / 1500: loss 2.302270\n",
      "iteration 400 / 1500: loss 2.302650\n",
      "iteration 500 / 1500: loss 2.302711\n",
      "iteration 600 / 1500: loss 2.302656\n",
      "iteration 700 / 1500: loss 2.302008\n",
      "iteration 800 / 1500: loss 2.302638\n",
      "iteration 900 / 1500: loss 2.302482\n",
      "iteration 1000 / 1500: loss 2.302463\n",
      "iteration 1100 / 1500: loss 2.302556\n",
      "iteration 1200 / 1500: loss 2.302534\n",
      "iteration 1300 / 1500: loss 2.302817\n",
      "iteration 1400 / 1500: loss 2.302320\n",
      "0.10042857142857142 0.079\n",
      "iteration 0 / 1500: loss 2.302586\n",
      "iteration 100 / 1500: loss 2.299525\n",
      "iteration 200 / 1500: loss 2.019193\n",
      "iteration 300 / 1500: loss 1.672941\n",
      "iteration 400 / 1500: loss 1.468740\n",
      "iteration 500 / 1500: loss 1.438378\n",
      "iteration 600 / 1500: loss 1.551506\n",
      "iteration 700 / 1500: loss 1.408755\n",
      "iteration 800 / 1500: loss 1.330954\n",
      "iteration 900 / 1500: loss 1.396588\n",
      "iteration 1000 / 1500: loss 1.413621\n",
      "iteration 1100 / 1500: loss 1.341203\n",
      "iteration 1200 / 1500: loss 1.390828\n",
      "iteration 1300 / 1500: loss 1.279180\n",
      "iteration 1400 / 1500: loss 1.235013\n",
      "0.5520408163265306 0.54\n",
      "iteration 0 / 1500: loss 2.302591\n",
      "iteration 100 / 1500: loss 2.300846\n",
      "iteration 200 / 1500: loss 2.009374\n",
      "iteration 300 / 1500: loss 1.789397\n",
      "iteration 400 / 1500: loss 1.536590\n",
      "iteration 500 / 1500: loss 1.515206\n",
      "iteration 600 / 1500: loss 1.371926\n",
      "iteration 700 / 1500: loss 1.402280\n",
      "iteration 800 / 1500: loss 1.463619\n",
      "iteration 900 / 1500: loss 1.435355\n",
      "iteration 1000 / 1500: loss 1.477885\n",
      "iteration 1100 / 1500: loss 1.446346\n",
      "iteration 1200 / 1500: loss 1.539661\n",
      "iteration 1300 / 1500: loss 1.509947\n",
      "iteration 1400 / 1500: loss 1.450357\n",
      "0.5419183673469388 0.53\n",
      "iteration 0 / 1500: loss 2.302598\n",
      "iteration 100 / 1500: loss 2.301053\n",
      "iteration 200 / 1500: loss 2.026191\n",
      "iteration 300 / 1500: loss 1.773395\n",
      "iteration 400 / 1500: loss 1.727862\n",
      "iteration 500 / 1500: loss 1.621769\n",
      "iteration 600 / 1500: loss 1.580299\n",
      "iteration 700 / 1500: loss 1.489131\n",
      "iteration 800 / 1500: loss 1.538769\n",
      "iteration 900 / 1500: loss 1.580817\n",
      "iteration 1000 / 1500: loss 1.588531\n",
      "iteration 1100 / 1500: loss 1.526039\n",
      "iteration 1200 / 1500: loss 1.498119\n",
      "iteration 1300 / 1500: loss 1.552376\n",
      "iteration 1400 / 1500: loss 1.502609\n",
      "0.5305714285714286 0.527\n",
      "iteration 0 / 1500: loss 2.302712\n",
      "iteration 100 / 1500: loss 2.302896\n",
      "iteration 200 / 1500: loss 2.301206\n",
      "iteration 300 / 1500: loss 2.248850\n",
      "iteration 400 / 1500: loss 2.236391\n",
      "iteration 500 / 1500: loss 2.207422\n",
      "iteration 600 / 1500: loss 2.141717\n",
      "iteration 700 / 1500: loss 2.127240\n",
      "iteration 800 / 1500: loss 2.101709\n",
      "iteration 900 / 1500: loss 2.145571\n",
      "iteration 1000 / 1500: loss 2.126806\n",
      "iteration 1100 / 1500: loss 2.116685\n",
      "iteration 1200 / 1500: loss 2.106815\n",
      "iteration 1300 / 1500: loss 2.160181\n",
      "iteration 1400 / 1500: loss 2.112718\n",
      "0.3419387755102041 0.319\n",
      "iteration 0 / 1500: loss 2.303222\n",
      "iteration 100 / 1500: loss 2.301537\n",
      "iteration 200 / 1500: loss 2.304528\n",
      "iteration 300 / 1500: loss 2.303369\n",
      "iteration 400 / 1500: loss 2.303189\n",
      "iteration 500 / 1500: loss 2.302667\n",
      "iteration 600 / 1500: loss 2.303381\n",
      "iteration 700 / 1500: loss 2.302232\n",
      "iteration 800 / 1500: loss 2.302447\n",
      "iteration 900 / 1500: loss 2.303505\n",
      "iteration 1000 / 1500: loss 2.302772\n",
      "iteration 1100 / 1500: loss 2.302692\n",
      "iteration 1200 / 1500: loss 2.303597\n",
      "iteration 1300 / 1500: loss 2.301279\n",
      "iteration 1400 / 1500: loss 2.302155\n",
      "0.10042857142857142 0.079\n",
      "iteration 0 / 1500: loss 2.303856\n",
      "iteration 100 / 1500: loss 2.301985\n",
      "iteration 200 / 1500: loss 2.303342\n",
      "iteration 300 / 1500: loss 2.303009\n",
      "iteration 400 / 1500: loss 2.301225\n",
      "iteration 500 / 1500: loss 2.302128\n",
      "iteration 600 / 1500: loss 2.301333\n",
      "iteration 700 / 1500: loss 2.303172\n",
      "iteration 800 / 1500: loss 2.305035\n",
      "iteration 900 / 1500: loss 2.304095\n",
      "iteration 1000 / 1500: loss 2.302372\n",
      "iteration 1100 / 1500: loss 2.303086\n",
      "iteration 1200 / 1500: loss 2.301411\n",
      "iteration 1300 / 1500: loss 2.302104\n",
      "iteration 1400 / 1500: loss 2.303221\n",
      "0.10042857142857142 0.079\n",
      "iteration 0 / 1500: loss 2.302586\n",
      "iteration 100 / 1500: loss 1.495314\n",
      "iteration 200 / 1500: loss 1.362042\n",
      "iteration 300 / 1500: loss 1.401560\n",
      "iteration 400 / 1500: loss 1.224783\n",
      "iteration 500 / 1500: loss 1.291468\n",
      "iteration 600 / 1500: loss 1.170143\n",
      "iteration 700 / 1500: loss 1.264033\n",
      "iteration 800 / 1500: loss 1.334112\n",
      "iteration 900 / 1500: loss 1.307706\n",
      "iteration 1000 / 1500: loss 1.264285\n",
      "iteration 1100 / 1500: loss 1.167989\n",
      "iteration 1200 / 1500: loss 1.126587\n",
      "iteration 1300 / 1500: loss 1.145064\n",
      "iteration 1400 / 1500: loss 1.083148\n",
      "0.6629387755102041 0.577\n",
      "iteration 0 / 1500: loss 2.302592\n",
      "iteration 100 / 1500: loss 1.589838\n",
      "iteration 200 / 1500: loss 1.437145\n",
      "iteration 300 / 1500: loss 1.480224\n",
      "iteration 400 / 1500: loss 1.450702\n",
      "iteration 500 / 1500: loss 1.551691\n",
      "iteration 600 / 1500: loss 1.410648\n",
      "iteration 700 / 1500: loss 1.452040\n",
      "iteration 800 / 1500: loss 1.421903\n",
      "iteration 900 / 1500: loss 1.436458\n",
      "iteration 1000 / 1500: loss 1.561306\n",
      "iteration 1100 / 1500: loss 1.463127\n",
      "iteration 1200 / 1500: loss 1.426878\n",
      "iteration 1300 / 1500: loss 1.347815\n",
      "iteration 1400 / 1500: loss 1.420963\n",
      "0.5743469387755102 0.544\n",
      "iteration 0 / 1500: loss 2.302598\n",
      "iteration 100 / 1500: loss 1.634245\n",
      "iteration 200 / 1500: loss 1.649822\n",
      "iteration 300 / 1500: loss 1.608474\n",
      "iteration 400 / 1500: loss 1.545372\n",
      "iteration 500 / 1500: loss 1.660897\n",
      "iteration 600 / 1500: loss 1.579225\n"
     ]
    },
    {
     "name": "stdout",
     "output_type": "stream",
     "text": [
      "iteration 700 / 1500: loss 1.534065\n",
      "iteration 800 / 1500: loss 1.588053\n",
      "iteration 900 / 1500: loss 1.597326\n",
      "iteration 1000 / 1500: loss 1.489672\n",
      "iteration 1100 / 1500: loss 1.575790\n",
      "iteration 1200 / 1500: loss 1.542745\n",
      "iteration 1300 / 1500: loss 1.503997\n",
      "iteration 1400 / 1500: loss 1.562848\n",
      "0.5222040816326531 0.526\n",
      "iteration 0 / 1500: loss 2.302712\n",
      "iteration 100 / 1500: loss 2.196507\n",
      "iteration 200 / 1500: loss 2.113405\n",
      "iteration 300 / 1500: loss 2.099975\n",
      "iteration 400 / 1500: loss 2.156333\n",
      "iteration 500 / 1500: loss 2.114109\n",
      "iteration 600 / 1500: loss 2.096801\n",
      "iteration 700 / 1500: loss 2.143874\n",
      "iteration 800 / 1500: loss 2.123189\n",
      "iteration 900 / 1500: loss 2.114708\n",
      "iteration 1000 / 1500: loss 2.107264\n",
      "iteration 1100 / 1500: loss 2.065718\n",
      "iteration 1200 / 1500: loss 2.192584\n",
      "iteration 1300 / 1500: loss 2.111567\n",
      "iteration 1400 / 1500: loss 2.188269\n",
      "0.34744897959183674 0.357\n",
      "iteration 0 / 1500: loss 2.303218\n",
      "iteration 100 / 1500: loss 2.303326\n",
      "iteration 200 / 1500: loss 2.301373\n",
      "iteration 300 / 1500: loss 2.298094\n",
      "iteration 400 / 1500: loss 2.301374\n",
      "iteration 500 / 1500: loss 2.305115\n",
      "iteration 600 / 1500: loss 2.301647\n",
      "iteration 700 / 1500: loss 2.304728\n",
      "iteration 800 / 1500: loss 2.307650\n",
      "iteration 900 / 1500: loss 2.305486\n",
      "iteration 1000 / 1500: loss 2.301860\n",
      "iteration 1100 / 1500: loss 2.302005\n",
      "iteration 1200 / 1500: loss 2.301991\n",
      "iteration 1300 / 1500: loss 2.300703\n",
      "iteration 1400 / 1500: loss 2.303528\n",
      "0.09995918367346938 0.102\n",
      "iteration 0 / 1500: loss 2.303852\n",
      "iteration 100 / 1500: loss 2.301302\n",
      "iteration 200 / 1500: loss 2.303701\n",
      "iteration 300 / 1500: loss 2.303153\n",
      "iteration 400 / 1500: loss 2.301806\n",
      "iteration 500 / 1500: loss 2.302079\n",
      "iteration 600 / 1500: loss 2.300290\n",
      "iteration 700 / 1500: loss 2.305384\n",
      "iteration 800 / 1500: loss 2.302384\n",
      "iteration 900 / 1500: loss 2.303525\n",
      "iteration 1000 / 1500: loss 2.300106\n",
      "iteration 1100 / 1500: loss 2.300868\n",
      "iteration 1200 / 1500: loss 2.302291\n",
      "iteration 1300 / 1500: loss 2.302652\n",
      "iteration 1400 / 1500: loss 2.303469\n",
      "0.09961224489795918 0.119\n",
      "iteration 0 / 1500: loss 2.302586\n",
      "iteration 100 / 1500: loss 1.459479\n",
      "iteration 200 / 1500: loss 1.506561\n",
      "iteration 300 / 1500: loss 1.380250\n",
      "iteration 400 / 1500: loss 1.374759\n",
      "iteration 500 / 1500: loss 1.439816\n",
      "iteration 600 / 1500: loss 1.394965\n",
      "iteration 700 / 1500: loss 1.508994\n",
      "iteration 800 / 1500: loss 1.362548\n",
      "iteration 900 / 1500: loss 1.200013\n",
      "iteration 1000 / 1500: loss 1.273710\n",
      "iteration 1100 / 1500: loss 1.222189\n",
      "iteration 1200 / 1500: loss 1.313447\n",
      "iteration 1300 / 1500: loss 1.234858\n",
      "iteration 1400 / 1500: loss 1.210390\n",
      "0.6639387755102041 0.574\n",
      "iteration 0 / 1500: loss 2.302592\n",
      "iteration 100 / 1500: loss 1.576192\n",
      "iteration 200 / 1500: loss 1.469211\n",
      "iteration 300 / 1500: loss 1.684398\n",
      "iteration 400 / 1500: loss 1.496323\n",
      "iteration 500 / 1500: loss 1.496661\n",
      "iteration 600 / 1500: loss 1.641387\n",
      "iteration 700 / 1500: loss 1.445111\n",
      "iteration 800 / 1500: loss 1.583830\n",
      "iteration 900 / 1500: loss 1.503697\n",
      "iteration 1000 / 1500: loss 1.490538\n",
      "iteration 1100 / 1500: loss 1.457518\n",
      "iteration 1200 / 1500: loss 1.466544\n",
      "iteration 1300 / 1500: loss 1.381571\n",
      "iteration 1400 / 1500: loss 1.485301\n",
      "0.5596938775510204 0.54\n",
      "iteration 0 / 1500: loss 2.302598\n",
      "iteration 100 / 1500: loss 1.605591\n",
      "iteration 200 / 1500: loss 1.677849\n",
      "iteration 300 / 1500: loss 1.763320\n",
      "iteration 400 / 1500: loss 1.805867\n",
      "iteration 500 / 1500: loss 1.668591\n",
      "iteration 600 / 1500: loss 1.640618\n",
      "iteration 700 / 1500: loss 1.628232\n",
      "iteration 800 / 1500: loss 1.674591\n",
      "iteration 900 / 1500: loss 1.606437\n",
      "iteration 1000 / 1500: loss 1.575853\n",
      "iteration 1100 / 1500: loss 1.547587\n",
      "iteration 1200 / 1500: loss 1.561532\n",
      "iteration 1300 / 1500: loss 1.701792\n",
      "iteration 1400 / 1500: loss 1.489952\n",
      "0.49318367346938774 0.465\n",
      "iteration 0 / 1500: loss 2.302712\n",
      "iteration 100 / 1500: loss 2.194682\n",
      "iteration 200 / 1500: loss 2.259282\n",
      "iteration 300 / 1500: loss 2.085381\n",
      "iteration 400 / 1500: loss 2.177002\n",
      "iteration 500 / 1500: loss 2.148622\n",
      "iteration 600 / 1500: loss 2.117576\n",
      "iteration 700 / 1500: loss 2.152302\n",
      "iteration 800 / 1500: loss 2.116324\n",
      "iteration 900 / 1500: loss 2.172807\n",
      "iteration 1000 / 1500: loss 2.192069\n",
      "iteration 1100 / 1500: loss 2.151806\n",
      "iteration 1200 / 1500: loss 2.164477\n",
      "iteration 1300 / 1500: loss 2.147444\n",
      "iteration 1400 / 1500: loss 2.148781\n",
      "0.2706530612244898 0.28\n",
      "iteration 0 / 1500: loss 2.303219\n",
      "iteration 100 / 1500: loss 2.298866\n",
      "iteration 200 / 1500: loss 2.302405\n",
      "iteration 300 / 1500: loss 2.300858\n",
      "iteration 400 / 1500: loss 2.302739\n",
      "iteration 500 / 1500: loss 2.303247\n",
      "iteration 600 / 1500: loss 2.302874\n",
      "iteration 700 / 1500: loss 2.300106\n",
      "iteration 800 / 1500: loss 2.302640\n",
      "iteration 900 / 1500: loss 2.302787\n",
      "iteration 1000 / 1500: loss 2.306796\n",
      "iteration 1100 / 1500: loss 2.299461\n",
      "iteration 1200 / 1500: loss 2.303981\n",
      "iteration 1300 / 1500: loss 2.302040\n",
      "iteration 1400 / 1500: loss 2.310359\n",
      "0.10044897959183674 0.078\n",
      "iteration 0 / 1500: loss 2.303851\n"
     ]
    },
    {
     "name": "stderr",
     "output_type": "stream",
     "text": [
      "/Users/yinjiefei/cs231n/assignment1/cs231n/classifiers/neural_net.py:103: RuntimeWarning: divide by zero encountered in log\n",
      "  loss = -np.sum(np.log(softmax_output[range(N),list(y)]))\n"
     ]
    },
    {
     "name": "stdout",
     "output_type": "stream",
     "text": [
      "iteration 100 / 1500: loss inf\n",
      "iteration 200 / 1500: loss inf\n",
      "iteration 300 / 1500: loss inf\n",
      "iteration 400 / 1500: loss inf\n",
      "iteration 500 / 1500: loss inf\n",
      "iteration 600 / 1500: loss inf\n"
     ]
    },
    {
     "name": "stderr",
     "output_type": "stream",
     "text": [
      "/Users/yinjiefei/cs231n/assignment1/cs231n/classifiers/neural_net.py:100: RuntimeWarning: overflow encountered in subtract\n",
      "  result -= np.max(result, axis=1, keepdims=True)\n",
      "/Users/yinjiefei/cs231n/assignment1/cs231n/classifiers/neural_net.py:100: RuntimeWarning: invalid value encountered in subtract\n",
      "  result -= np.max(result, axis=1, keepdims=True)\n",
      "/Users/yinjiefei/cs231n/assignment1/cs231n/classifiers/neural_net.py:129: RuntimeWarning: invalid value encountered in greater\n",
      "  s2_relu = (scores1>0)*s2\n"
     ]
    },
    {
     "name": "stdout",
     "output_type": "stream",
     "text": [
      "iteration 700 / 1500: loss nan\n",
      "iteration 800 / 1500: loss nan\n",
      "iteration 900 / 1500: loss nan\n",
      "iteration 1000 / 1500: loss nan\n",
      "iteration 1100 / 1500: loss nan\n",
      "iteration 1200 / 1500: loss nan\n",
      "iteration 1300 / 1500: loss nan\n",
      "iteration 1400 / 1500: loss nan\n",
      "0.10026530612244898 0.087\n",
      "iteration 0 / 1500: loss 2.302586\n",
      "iteration 100 / 1500: loss inf\n",
      "iteration 200 / 1500: loss inf\n",
      "iteration 300 / 1500: loss inf\n"
     ]
    },
    {
     "name": "stderr",
     "output_type": "stream",
     "text": [
      "/Users/yinjiefei/Library/Python/3.7/lib/python/site-packages/numpy/core/fromnumeric.py:90: RuntimeWarning: overflow encountered in reduce\n",
      "  return ufunc.reduce(obj, axis, dtype, out, **passkwargs)\n"
     ]
    },
    {
     "name": "stdout",
     "output_type": "stream",
     "text": [
      "iteration 400 / 1500: loss nan\n",
      "iteration 500 / 1500: loss nan\n",
      "iteration 600 / 1500: loss nan\n",
      "iteration 700 / 1500: loss nan\n",
      "iteration 800 / 1500: loss nan\n",
      "iteration 900 / 1500: loss nan\n",
      "iteration 1000 / 1500: loss nan\n",
      "iteration 1100 / 1500: loss nan\n",
      "iteration 1200 / 1500: loss nan\n",
      "iteration 1300 / 1500: loss nan\n",
      "iteration 1400 / 1500: loss nan\n",
      "0.10026530612244898 0.087\n",
      "iteration 0 / 1500: loss 2.302591\n",
      "iteration 100 / 1500: loss inf\n",
      "iteration 200 / 1500: loss inf\n",
      "iteration 300 / 1500: loss inf\n"
     ]
    },
    {
     "name": "stderr",
     "output_type": "stream",
     "text": [
      "/Users/yinjiefei/cs231n/assignment1/cs231n/classifiers/neural_net.py:105: RuntimeWarning: overflow encountered in multiply\n",
      "  loss += reg*(np.sum(W1*W1) + np.sum(W2*W2))\n"
     ]
    },
    {
     "name": "stdout",
     "output_type": "stream",
     "text": [
      "iteration 400 / 1500: loss nan\n",
      "iteration 500 / 1500: loss nan\n",
      "iteration 600 / 1500: loss nan\n",
      "iteration 700 / 1500: loss nan\n",
      "iteration 800 / 1500: loss nan\n",
      "iteration 900 / 1500: loss nan\n",
      "iteration 1000 / 1500: loss nan\n",
      "iteration 1100 / 1500: loss nan\n",
      "iteration 1200 / 1500: loss nan\n",
      "iteration 1300 / 1500: loss nan\n",
      "iteration 1400 / 1500: loss nan\n",
      "0.10026530612244898 0.087\n",
      "iteration 0 / 1500: loss 2.302598\n",
      "iteration 100 / 1500: loss inf\n",
      "iteration 200 / 1500: loss inf\n",
      "iteration 300 / 1500: loss inf\n",
      "iteration 400 / 1500: loss nan\n",
      "iteration 500 / 1500: loss nan\n",
      "iteration 600 / 1500: loss nan\n",
      "iteration 700 / 1500: loss nan\n",
      "iteration 800 / 1500: loss nan\n",
      "iteration 900 / 1500: loss nan\n",
      "iteration 1000 / 1500: loss nan\n",
      "iteration 1100 / 1500: loss nan\n",
      "iteration 1200 / 1500: loss nan\n",
      "iteration 1300 / 1500: loss nan\n",
      "iteration 1400 / 1500: loss nan\n",
      "0.10026530612244898 0.087\n",
      "iteration 0 / 1500: loss 2.302712\n",
      "iteration 100 / 1500: loss inf\n",
      "iteration 200 / 1500: loss inf\n",
      "iteration 300 / 1500: loss inf\n",
      "iteration 400 / 1500: loss nan\n",
      "iteration 500 / 1500: loss nan\n",
      "iteration 600 / 1500: loss nan\n",
      "iteration 700 / 1500: loss nan\n",
      "iteration 800 / 1500: loss nan\n",
      "iteration 900 / 1500: loss nan\n",
      "iteration 1000 / 1500: loss nan\n",
      "iteration 1100 / 1500: loss nan\n",
      "iteration 1200 / 1500: loss nan\n",
      "iteration 1300 / 1500: loss nan\n",
      "iteration 1400 / 1500: loss nan\n",
      "0.10026530612244898 0.087\n",
      "iteration 0 / 1500: loss 2.303220\n",
      "iteration 100 / 1500: loss inf\n",
      "iteration 200 / 1500: loss nan\n",
      "iteration 300 / 1500: loss nan\n",
      "iteration 400 / 1500: loss nan\n",
      "iteration 500 / 1500: loss nan\n",
      "iteration 600 / 1500: loss nan\n",
      "iteration 700 / 1500: loss nan\n",
      "iteration 800 / 1500: loss nan\n",
      "iteration 900 / 1500: loss nan\n",
      "iteration 1000 / 1500: loss nan\n",
      "iteration 1100 / 1500: loss nan\n",
      "iteration 1200 / 1500: loss nan\n",
      "iteration 1300 / 1500: loss nan\n",
      "iteration 1400 / 1500: loss nan\n",
      "0.10026530612244898 0.087\n",
      "iteration 0 / 1500: loss 2.303865\n",
      "iteration 100 / 1500: loss inf\n",
      "iteration 200 / 1500: loss nan\n",
      "iteration 300 / 1500: loss nan\n",
      "iteration 400 / 1500: loss nan\n",
      "iteration 500 / 1500: loss nan\n",
      "iteration 600 / 1500: loss nan\n",
      "iteration 700 / 1500: loss nan\n",
      "iteration 800 / 1500: loss nan\n",
      "iteration 900 / 1500: loss nan\n",
      "iteration 1000 / 1500: loss nan\n",
      "iteration 1100 / 1500: loss nan\n",
      "iteration 1200 / 1500: loss nan\n",
      "iteration 1300 / 1500: loss nan\n",
      "iteration 1400 / 1500: loss nan\n",
      "0.10026530612244898 0.087\n",
      "0.577\n"
     ]
    }
   ],
   "source": [
    "from cs231n.classifiers.neural_net import TwoLayerNet\n",
    "\n",
    "input_dim = X_train_feats.shape[1]\n",
    "hidden_dim = 500\n",
    "num_classes = 10\n",
    "best_val = -1\n",
    "net = TwoLayerNet(input_dim, hidden_dim, num_classes)\n",
    "best_net = None\n",
    "\n",
    "################################################################################\n",
    "# TODO: Train a two-layer neural network on image features. You may want to    #\n",
    "# cross-validate various parameters as in previous sections. Store your best   #\n",
    "# model in the best_net variable.                                              #\n",
    "################################################################################\n",
    "# *****START OF YOUR CODE (DO NOT DELETE/MODIFY THIS LINE)*****\n",
    "for lr in learning_rates:\n",
    "    for reg in regularization_strengths:\n",
    "        net = TwoLayerNet(input_dim, hidden_dim, num_classes)\n",
    "        net.train(X_train_feats,y_train,X_val_feats,y_val,learning_rate=lr,reg=reg,num_iters=1500,batch_size=200,verbose=True)\n",
    "        \n",
    "        y_train_pred = net.predict(X_train_feats)\n",
    "        y_val_pred = net.predict(X_val_feats)\n",
    "        \n",
    "        rate1 = np.mean(y_train==y_train_pred)\n",
    "        rate2 = np.mean(y_val==y_val_pred)\n",
    "        print(rate1,rate2)\n",
    "        \n",
    "        if rate2 > best_val:\n",
    "            best_val = rate2\n",
    "            best_net = net\n",
    "        \n",
    "print(best_val)\n",
    "\n",
    "pass\n",
    "\n",
    "# *****END OF YOUR CODE (DO NOT DELETE/MODIFY THIS LINE)*****\n"
   ]
  },
  {
   "cell_type": "code",
   "execution_count": 9,
   "metadata": {},
   "outputs": [
    {
     "name": "stdout",
     "output_type": "stream",
     "text": [
      "0.577\n"
     ]
    }
   ],
   "source": [
    "# Run your best neural net classifier on the test set. You should be able\n",
    "# to get more than 55% accuracy.\n",
    "\n",
    "test_acc = (best_net.predict(X_test_feats) == y_test).mean()\n",
    "print(test_acc)"
   ]
  },
  {
   "cell_type": "code",
   "execution_count": 8,
   "metadata": {},
   "outputs": [
    {
     "name": "stdout",
     "output_type": "stream",
     "text": [
      "<cs231n.classifiers.neural_net.TwoLayerNet object at 0x11700d450>\n"
     ]
    }
   ],
   "source": [
    "print(best_net)"
   ]
  },
  {
   "cell_type": "code",
   "execution_count": 9,
   "metadata": {},
   "outputs": [
    {
     "name": "stdout",
     "output_type": "stream",
     "text": [
      "tensor([1, 4, 7, 2])\n"
     ]
    }
   ],
   "source": [
    "import torch as t\n",
    "a = t.tensor([[1,2,3],[4,5,6],[7,8,9],[2,2,2]])\n",
    "print(a[...,0])"
   ]
  }
 ],
 "metadata": {
  "kernelspec": {
   "display_name": "Python 3",
   "language": "python",
   "name": "python3"
  },
  "language_info": {
   "codemirror_mode": {
    "name": "ipython",
    "version": 3
   },
   "file_extension": ".py",
   "mimetype": "text/x-python",
   "name": "python",
   "nbconvert_exporter": "python",
   "pygments_lexer": "ipython3",
   "version": "3.7.4"
  }
 },
 "nbformat": 4,
 "nbformat_minor": 1
}
